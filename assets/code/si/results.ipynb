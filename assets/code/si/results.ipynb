{
 "cells": [
  {
   "cell_type": "code",
   "execution_count": 1,
   "id": "ce49ab20",
   "metadata": {},
   "outputs": [
    {
     "name": "stdout",
     "output_type": "stream",
     "text": [
      "WARNING:tensorflow:From C:\\Users\\katkh\\anaconda3\\lib\\site-packages\\keras\\src\\losses.py:2976: The name tf.losses.sparse_softmax_cross_entropy is deprecated. Please use tf.compat.v1.losses.sparse_softmax_cross_entropy instead.\n",
      "\n"
     ]
    }
   ],
   "source": [
    "import seaborn as sns\n",
    "from pylab import rcParams\n",
    "import matplotlib.pyplot as plt\n",
    "from matplotlib import rc\n",
    "import math\n",
    "import matplotlib\n",
    "\n",
    "import pandas as pd\n",
    "import numpy as np\n",
    "from tqdm.notebook import tqdm\n",
    "\n",
    "import torch\n",
    "import torch.autograd as autograd\n",
    "import torch.nn as nn\n",
    "import torch.nn.functional as F\n",
    "import torch.optim as optim\n",
    "\n",
    "import pytorch_lightning as pl\n",
    "from pytorch_lightning.callbacks import ModelCheckpoint, EarlyStopping\n",
    "from pytorch_lightning.loggers import TensorBoardLogger\n",
    "\n",
    "from torch.utils.data import Dataset, DataLoader\n",
    "from sklearn.preprocessing import MinMaxScaler\n",
    "\n",
    "from collections import defaultdict\n",
    "import torch\n",
    "import torch.nn as nn\n",
    "import torch.optim as optim\n",
    "from torch.utils.data import DataLoader\n",
    "from torch.utils.tensorboard import SummaryWriter\n",
    "from torch.nn.utils.rnn import pack_sequence, pad_packed_sequence"
   ]
  },
  {
   "cell_type": "code",
   "execution_count": 2,
   "id": "18c27f18",
   "metadata": {},
   "outputs": [
    {
     "data": {
      "text/html": [
       "<div>\n",
       "<style scoped>\n",
       "    .dataframe tbody tr th:only-of-type {\n",
       "        vertical-align: middle;\n",
       "    }\n",
       "\n",
       "    .dataframe tbody tr th {\n",
       "        vertical-align: top;\n",
       "    }\n",
       "\n",
       "    .dataframe thead th {\n",
       "        text-align: right;\n",
       "    }\n",
       "</style>\n",
       "<table border=\"1\" class=\"dataframe\">\n",
       "  <thead>\n",
       "    <tr style=\"text-align: right;\">\n",
       "      <th></th>\n",
       "      <th>Date</th>\n",
       "      <th>Stream</th>\n",
       "      <th>Si</th>\n",
       "      <th>Q</th>\n",
       "      <th>Evap_tavg</th>\n",
       "      <th>GWS_tavg</th>\n",
       "      <th>Rainf_f_tavg</th>\n",
       "      <th>SWE_tavg</th>\n",
       "      <th>Tair_f_tavg</th>\n",
       "      <th>TWS_tavg</th>\n",
       "    </tr>\n",
       "  </thead>\n",
       "  <tbody>\n",
       "    <tr>\n",
       "      <th>0</th>\n",
       "      <td>1974-01-15</td>\n",
       "      <td>WS2</td>\n",
       "      <td>2.575601</td>\n",
       "      <td>0.001228</td>\n",
       "      <td>0.000044</td>\n",
       "      <td>1688.042480</td>\n",
       "      <td>0.000006</td>\n",
       "      <td>16.704277</td>\n",
       "      <td>266.244080</td>\n",
       "      <td>2017.674805</td>\n",
       "    </tr>\n",
       "    <tr>\n",
       "      <th>1</th>\n",
       "      <td>1974-02-15</td>\n",
       "      <td>WS2</td>\n",
       "      <td>2.771926</td>\n",
       "      <td>0.001092</td>\n",
       "      <td>0.000033</td>\n",
       "      <td>1687.409058</td>\n",
       "      <td>0.000033</td>\n",
       "      <td>21.366982</td>\n",
       "      <td>257.965607</td>\n",
       "      <td>2020.702759</td>\n",
       "    </tr>\n",
       "    <tr>\n",
       "      <th>2</th>\n",
       "      <td>1974-03-15</td>\n",
       "      <td>WS2</td>\n",
       "      <td>2.379275</td>\n",
       "      <td>0.002349</td>\n",
       "      <td>0.000029</td>\n",
       "      <td>1672.790649</td>\n",
       "      <td>0.000000</td>\n",
       "      <td>1.525050</td>\n",
       "      <td>267.575745</td>\n",
       "      <td>1968.178467</td>\n",
       "    </tr>\n",
       "    <tr>\n",
       "      <th>3</th>\n",
       "      <td>1974-04-15</td>\n",
       "      <td>WS2</td>\n",
       "      <td>2.145555</td>\n",
       "      <td>0.049788</td>\n",
       "      <td>0.000030</td>\n",
       "      <td>1693.105225</td>\n",
       "      <td>0.000027</td>\n",
       "      <td>0.000000</td>\n",
       "      <td>277.816742</td>\n",
       "      <td>2015.714722</td>\n",
       "    </tr>\n",
       "    <tr>\n",
       "      <th>4</th>\n",
       "      <td>1974-05-15</td>\n",
       "      <td>WS2</td>\n",
       "      <td>2.383950</td>\n",
       "      <td>0.006491</td>\n",
       "      <td>0.000043</td>\n",
       "      <td>1681.883057</td>\n",
       "      <td>0.000008</td>\n",
       "      <td>0.000000</td>\n",
       "      <td>283.276062</td>\n",
       "      <td>1986.314331</td>\n",
       "    </tr>\n",
       "  </tbody>\n",
       "</table>\n",
       "</div>"
      ],
      "text/plain": [
       "         Date Stream        Si         Q  Evap_tavg     GWS_tavg  \\\n",
       "0  1974-01-15    WS2  2.575601  0.001228   0.000044  1688.042480   \n",
       "1  1974-02-15    WS2  2.771926  0.001092   0.000033  1687.409058   \n",
       "2  1974-03-15    WS2  2.379275  0.002349   0.000029  1672.790649   \n",
       "3  1974-04-15    WS2  2.145555  0.049788   0.000030  1693.105225   \n",
       "4  1974-05-15    WS2  2.383950  0.006491   0.000043  1681.883057   \n",
       "\n",
       "   Rainf_f_tavg   SWE_tavg  Tair_f_tavg     TWS_tavg  \n",
       "0      0.000006  16.704277   266.244080  2017.674805  \n",
       "1      0.000033  21.366982   257.965607  2020.702759  \n",
       "2      0.000000   1.525050   267.575745  1968.178467  \n",
       "3      0.000027   0.000000   277.816742  2015.714722  \n",
       "4      0.000008   0.000000   283.276062  1986.314331  "
      ]
     },
     "execution_count": 2,
     "metadata": {},
     "output_type": "execute_result"
    }
   ],
   "source": [
    "file_path = \"master_9_sites.csv\"\n",
    "\n",
    "\n",
    "master_9_sites = pd.read_csv(file_path)\n",
    "master_9_sites.head(5)"
   ]
  },
  {
   "cell_type": "code",
   "execution_count": 3,
   "id": "0938393f",
   "metadata": {},
   "outputs": [],
   "source": [
    "master_9_sites.fillna(0, inplace=True)"
   ]
  },
  {
   "cell_type": "code",
   "execution_count": 4,
   "id": "b48a94f7",
   "metadata": {},
   "outputs": [
    {
     "data": {
      "text/plain": [
       "(9, 18)"
      ]
     },
     "execution_count": 4,
     "metadata": {},
     "output_type": "execute_result"
    }
   ],
   "source": [
    "static = pd.read_csv('static.csv')\n",
    "static.rename(columns={'Stream_Name': 'Stream'}, inplace=True)\n",
    "\n",
    "\n",
    "static.shape"
   ]
  },
  {
   "cell_type": "code",
   "execution_count": 5,
   "id": "e43cf57d",
   "metadata": {},
   "outputs": [
    {
     "data": {
      "text/html": [
       "<div>\n",
       "<style scoped>\n",
       "    .dataframe tbody tr th:only-of-type {\n",
       "        vertical-align: middle;\n",
       "    }\n",
       "\n",
       "    .dataframe tbody tr th {\n",
       "        vertical-align: top;\n",
       "    }\n",
       "\n",
       "    .dataframe thead th {\n",
       "        text-align: right;\n",
       "    }\n",
       "</style>\n",
       "<table border=\"1\" class=\"dataframe\">\n",
       "  <thead>\n",
       "    <tr style=\"text-align: right;\">\n",
       "      <th></th>\n",
       "      <th>Stream</th>\n",
       "      <th>drainSqKm</th>\n",
       "      <th>elevation_mean_m</th>\n",
       "      <th>Max_Daylength</th>\n",
       "      <th>rocks_volcanic</th>\n",
       "      <th>rocks_sedimentary</th>\n",
       "      <th>rocks_plutonic</th>\n",
       "      <th>rocks_metamorphic</th>\n",
       "      <th>rocks_carbonate_evaporite</th>\n",
       "      <th>land_evergreen_needleleaf_forest</th>\n",
       "      <th>land_tundra</th>\n",
       "      <th>land_shrubland_grassland</th>\n",
       "      <th>land_cropland</th>\n",
       "      <th>land_mixed_forest</th>\n",
       "      <th>land_urban_and_built_up_land</th>\n",
       "      <th>land_barren_or_sparsely_vegetated</th>\n",
       "      <th>land_wetland</th>\n",
       "      <th>land_evergreen_broadleaf_forest</th>\n",
       "    </tr>\n",
       "  </thead>\n",
       "  <tbody>\n",
       "    <tr>\n",
       "      <th>0</th>\n",
       "      <td>CU11.6M</td>\n",
       "      <td>2338.000</td>\n",
       "      <td>216.883582</td>\n",
       "      <td>14.846486</td>\n",
       "      <td>0.000000</td>\n",
       "      <td>16.666667</td>\n",
       "      <td>0.000000</td>\n",
       "      <td>0.000000</td>\n",
       "      <td>83.333333</td>\n",
       "      <td>0.000000</td>\n",
       "      <td>0.000000</td>\n",
       "      <td>12.835821</td>\n",
       "      <td>71.402985</td>\n",
       "      <td>0.258706</td>\n",
       "      <td>0.258706</td>\n",
       "      <td>0.000000</td>\n",
       "      <td>0.000000</td>\n",
       "      <td>0.0</td>\n",
       "    </tr>\n",
       "    <tr>\n",
       "      <th>1</th>\n",
       "      <td>Lookout</td>\n",
       "      <td>62.420</td>\n",
       "      <td>1017.787879</td>\n",
       "      <td>15.447361</td>\n",
       "      <td>100.000000</td>\n",
       "      <td>0.000000</td>\n",
       "      <td>0.000000</td>\n",
       "      <td>0.000000</td>\n",
       "      <td>0.000000</td>\n",
       "      <td>100.000000</td>\n",
       "      <td>0.000000</td>\n",
       "      <td>0.000000</td>\n",
       "      <td>0.000000</td>\n",
       "      <td>0.000000</td>\n",
       "      <td>0.000000</td>\n",
       "      <td>0.000000</td>\n",
       "      <td>0.000000</td>\n",
       "      <td>0.0</td>\n",
       "    </tr>\n",
       "    <tr>\n",
       "      <th>2</th>\n",
       "      <td>Kolyma</td>\n",
       "      <td>650000.000</td>\n",
       "      <td>510.676326</td>\n",
       "      <td>24.000000</td>\n",
       "      <td>22.818792</td>\n",
       "      <td>64.932886</td>\n",
       "      <td>4.865772</td>\n",
       "      <td>2.348993</td>\n",
       "      <td>5.033557</td>\n",
       "      <td>0.000000</td>\n",
       "      <td>33.167319</td>\n",
       "      <td>16.522559</td>\n",
       "      <td>0.001848</td>\n",
       "      <td>1.080652</td>\n",
       "      <td>0.000000</td>\n",
       "      <td>0.255434</td>\n",
       "      <td>19.966409</td>\n",
       "      <td>0.0</td>\n",
       "    </tr>\n",
       "    <tr>\n",
       "      <th>3</th>\n",
       "      <td>LMP</td>\n",
       "      <td>479.200</td>\n",
       "      <td>117.387921</td>\n",
       "      <td>15.311104</td>\n",
       "      <td>0.000000</td>\n",
       "      <td>0.000000</td>\n",
       "      <td>0.000000</td>\n",
       "      <td>100.000000</td>\n",
       "      <td>0.000000</td>\n",
       "      <td>0.000000</td>\n",
       "      <td>0.000000</td>\n",
       "      <td>0.000000</td>\n",
       "      <td>1.055100</td>\n",
       "      <td>21.688159</td>\n",
       "      <td>0.000000</td>\n",
       "      <td>0.000000</td>\n",
       "      <td>0.000000</td>\n",
       "      <td>0.0</td>\n",
       "    </tr>\n",
       "    <tr>\n",
       "      <th>4</th>\n",
       "      <td>Q1</td>\n",
       "      <td>0.070</td>\n",
       "      <td>366.000000</td>\n",
       "      <td>13.208782</td>\n",
       "      <td>100.000000</td>\n",
       "      <td>0.000000</td>\n",
       "      <td>0.000000</td>\n",
       "      <td>0.000000</td>\n",
       "      <td>0.000000</td>\n",
       "      <td>0.000000</td>\n",
       "      <td>0.000000</td>\n",
       "      <td>0.000000</td>\n",
       "      <td>0.000000</td>\n",
       "      <td>100.000000</td>\n",
       "      <td>0.000000</td>\n",
       "      <td>0.000000</td>\n",
       "      <td>0.000000</td>\n",
       "      <td>0.0</td>\n",
       "    </tr>\n",
       "    <tr>\n",
       "      <th>5</th>\n",
       "      <td>Sagehen</td>\n",
       "      <td>27.000</td>\n",
       "      <td>2185.311475</td>\n",
       "      <td>14.899226</td>\n",
       "      <td>100.000000</td>\n",
       "      <td>0.000000</td>\n",
       "      <td>0.000000</td>\n",
       "      <td>0.000000</td>\n",
       "      <td>0.000000</td>\n",
       "      <td>100.000000</td>\n",
       "      <td>0.000000</td>\n",
       "      <td>0.000000</td>\n",
       "      <td>0.000000</td>\n",
       "      <td>0.000000</td>\n",
       "      <td>0.000000</td>\n",
       "      <td>0.000000</td>\n",
       "      <td>0.000000</td>\n",
       "      <td>0.0</td>\n",
       "    </tr>\n",
       "    <tr>\n",
       "      <th>6</th>\n",
       "      <td>Site.11564</td>\n",
       "      <td>36705.000</td>\n",
       "      <td>238.420323</td>\n",
       "      <td>18.960474</td>\n",
       "      <td>12.307692</td>\n",
       "      <td>16.923077</td>\n",
       "      <td>27.692308</td>\n",
       "      <td>43.076923</td>\n",
       "      <td>0.000000</td>\n",
       "      <td>77.971155</td>\n",
       "      <td>0.860124</td>\n",
       "      <td>8.673086</td>\n",
       "      <td>0.318938</td>\n",
       "      <td>6.649343</td>\n",
       "      <td>0.024172</td>\n",
       "      <td>0.000000</td>\n",
       "      <td>0.000000</td>\n",
       "      <td>0.0</td>\n",
       "    </tr>\n",
       "    <tr>\n",
       "      <th>7</th>\n",
       "      <td>STREORK</td>\n",
       "      <td>3053.000</td>\n",
       "      <td>724.589393</td>\n",
       "      <td>20.310257</td>\n",
       "      <td>0.000000</td>\n",
       "      <td>33.333333</td>\n",
       "      <td>0.000000</td>\n",
       "      <td>66.666667</td>\n",
       "      <td>0.000000</td>\n",
       "      <td>14.521900</td>\n",
       "      <td>3.886490</td>\n",
       "      <td>37.914867</td>\n",
       "      <td>0.172733</td>\n",
       "      <td>35.731030</td>\n",
       "      <td>0.000000</td>\n",
       "      <td>0.000000</td>\n",
       "      <td>0.000000</td>\n",
       "      <td>0.0</td>\n",
       "    </tr>\n",
       "    <tr>\n",
       "      <th>8</th>\n",
       "      <td>WS2</td>\n",
       "      <td>0.156</td>\n",
       "      <td>619.000000</td>\n",
       "      <td>15.415200</td>\n",
       "      <td>0.000000</td>\n",
       "      <td>0.000000</td>\n",
       "      <td>100.000000</td>\n",
       "      <td>0.000000</td>\n",
       "      <td>0.000000</td>\n",
       "      <td>0.000000</td>\n",
       "      <td>0.000000</td>\n",
       "      <td>0.000000</td>\n",
       "      <td>0.000000</td>\n",
       "      <td>0.000000</td>\n",
       "      <td>0.000000</td>\n",
       "      <td>0.000000</td>\n",
       "      <td>0.000000</td>\n",
       "      <td>0.0</td>\n",
       "    </tr>\n",
       "  </tbody>\n",
       "</table>\n",
       "</div>"
      ],
      "text/plain": [
       "       Stream   drainSqKm  elevation_mean_m  Max_Daylength  rocks_volcanic  \\\n",
       "0     CU11.6M    2338.000        216.883582      14.846486        0.000000   \n",
       "1     Lookout      62.420       1017.787879      15.447361      100.000000   \n",
       "2      Kolyma  650000.000        510.676326      24.000000       22.818792   \n",
       "3         LMP     479.200        117.387921      15.311104        0.000000   \n",
       "4          Q1       0.070        366.000000      13.208782      100.000000   \n",
       "5     Sagehen      27.000       2185.311475      14.899226      100.000000   \n",
       "6  Site.11564   36705.000        238.420323      18.960474       12.307692   \n",
       "7     STREORK    3053.000        724.589393      20.310257        0.000000   \n",
       "8         WS2       0.156        619.000000      15.415200        0.000000   \n",
       "\n",
       "   rocks_sedimentary  rocks_plutonic  rocks_metamorphic  \\\n",
       "0          16.666667        0.000000           0.000000   \n",
       "1           0.000000        0.000000           0.000000   \n",
       "2          64.932886        4.865772           2.348993   \n",
       "3           0.000000        0.000000         100.000000   \n",
       "4           0.000000        0.000000           0.000000   \n",
       "5           0.000000        0.000000           0.000000   \n",
       "6          16.923077       27.692308          43.076923   \n",
       "7          33.333333        0.000000          66.666667   \n",
       "8           0.000000      100.000000           0.000000   \n",
       "\n",
       "   rocks_carbonate_evaporite  land_evergreen_needleleaf_forest  land_tundra  \\\n",
       "0                  83.333333                          0.000000     0.000000   \n",
       "1                   0.000000                        100.000000     0.000000   \n",
       "2                   5.033557                          0.000000    33.167319   \n",
       "3                   0.000000                          0.000000     0.000000   \n",
       "4                   0.000000                          0.000000     0.000000   \n",
       "5                   0.000000                        100.000000     0.000000   \n",
       "6                   0.000000                         77.971155     0.860124   \n",
       "7                   0.000000                         14.521900     3.886490   \n",
       "8                   0.000000                          0.000000     0.000000   \n",
       "\n",
       "   land_shrubland_grassland  land_cropland  land_mixed_forest  \\\n",
       "0                 12.835821      71.402985           0.258706   \n",
       "1                  0.000000       0.000000           0.000000   \n",
       "2                 16.522559       0.001848           1.080652   \n",
       "3                  0.000000       1.055100          21.688159   \n",
       "4                  0.000000       0.000000         100.000000   \n",
       "5                  0.000000       0.000000           0.000000   \n",
       "6                  8.673086       0.318938           6.649343   \n",
       "7                 37.914867       0.172733          35.731030   \n",
       "8                  0.000000       0.000000           0.000000   \n",
       "\n",
       "   land_urban_and_built_up_land  land_barren_or_sparsely_vegetated  \\\n",
       "0                      0.258706                           0.000000   \n",
       "1                      0.000000                           0.000000   \n",
       "2                      0.000000                           0.255434   \n",
       "3                      0.000000                           0.000000   \n",
       "4                      0.000000                           0.000000   \n",
       "5                      0.000000                           0.000000   \n",
       "6                      0.024172                           0.000000   \n",
       "7                      0.000000                           0.000000   \n",
       "8                      0.000000                           0.000000   \n",
       "\n",
       "   land_wetland  land_evergreen_broadleaf_forest  \n",
       "0      0.000000                              0.0  \n",
       "1      0.000000                              0.0  \n",
       "2     19.966409                              0.0  \n",
       "3      0.000000                              0.0  \n",
       "4      0.000000                              0.0  \n",
       "5      0.000000                              0.0  \n",
       "6      0.000000                              0.0  \n",
       "7      0.000000                              0.0  \n",
       "8      0.000000                              0.0  "
      ]
     },
     "execution_count": 5,
     "metadata": {},
     "output_type": "execute_result"
    }
   ],
   "source": [
    "static.fillna(0, inplace=True)\n",
    "static.head(15)"
   ]
  },
  {
   "cell_type": "code",
   "execution_count": 6,
   "id": "74b5afab",
   "metadata": {},
   "outputs": [],
   "source": [
    "merged_df = pd.merge(static, master_9_sites, on='Stream')"
   ]
  },
  {
   "cell_type": "code",
   "execution_count": 7,
   "id": "33202498",
   "metadata": {},
   "outputs": [
    {
     "data": {
      "text/plain": [
       "(172301, 27)"
      ]
     },
     "execution_count": 7,
     "metadata": {},
     "output_type": "execute_result"
    }
   ],
   "source": [
    "merged_df.shape"
   ]
  },
  {
   "cell_type": "code",
   "execution_count": 8,
   "id": "2c72347c",
   "metadata": {},
   "outputs": [],
   "source": [
    "\n",
    "cols = [col for col in merged_df.columns if col != 'Si']\n",
    "\n",
    "new_cols = cols + ['Si']\n",
    "\n",
    "merged_df = merged_df[new_cols]"
   ]
  },
  {
   "cell_type": "code",
   "execution_count": 9,
   "id": "2486b48f",
   "metadata": {},
   "outputs": [],
   "source": [
    "stream_mapping = {\n",
    "    'CU11.6M': 1,\n",
    "    'Kolyma': 2,\n",
    "    'LMP': 3,\n",
    "    'Lookout': 4,\n",
    "    'Q1': 9, \n",
    "    'STREORK': 5,\n",
    "    'Sagehen': 6,\n",
    "    'Site.11564': 7,\n",
    "    'WS2': 8\n",
    "}\n",
    "\n",
    "# Map the Stream column using the stream_mapping dictionary\n",
    "merged_df['Stream'] = merged_df['Stream'].map(stream_mapping)\n"
   ]
  },
  {
   "cell_type": "code",
   "execution_count": 10,
   "id": "bad99d26",
   "metadata": {
    "scrolled": true
   },
   "outputs": [
    {
     "name": "stdout",
     "output_type": "stream",
     "text": [
      "The number of zero values in the Si column is: 167773\n"
     ]
    }
   ],
   "source": [
    "merged_df\n",
    "\n",
    "# Assuming merged_df is your DataFrame and 'Si' is the column of interest\n",
    "zero_count = (merged_df['Si'] == 0).sum()\n",
    "\n",
    "print(f'The number of zero values in the Si column is: {zero_count}')"
   ]
  },
  {
   "cell_type": "code",
   "execution_count": 11,
   "id": "00b06dcc",
   "metadata": {
    "scrolled": true
   },
   "outputs": [
    {
     "data": {
      "text/html": [
       "<div>\n",
       "<style scoped>\n",
       "    .dataframe tbody tr th:only-of-type {\n",
       "        vertical-align: middle;\n",
       "    }\n",
       "\n",
       "    .dataframe tbody tr th {\n",
       "        vertical-align: top;\n",
       "    }\n",
       "\n",
       "    .dataframe thead th {\n",
       "        text-align: right;\n",
       "    }\n",
       "</style>\n",
       "<table border=\"1\" class=\"dataframe\">\n",
       "  <thead>\n",
       "    <tr style=\"text-align: right;\">\n",
       "      <th></th>\n",
       "      <th>Date</th>\n",
       "      <th>Stream</th>\n",
       "      <th>drainSqKm</th>\n",
       "      <th>elevation_mean_m</th>\n",
       "      <th>Max_Daylength</th>\n",
       "      <th>rocks_volcanic</th>\n",
       "      <th>rocks_sedimentary</th>\n",
       "      <th>rocks_plutonic</th>\n",
       "      <th>rocks_metamorphic</th>\n",
       "      <th>rocks_carbonate_evaporite</th>\n",
       "      <th>...</th>\n",
       "      <th>land_wetland</th>\n",
       "      <th>land_evergreen_broadleaf_forest</th>\n",
       "      <th>Q</th>\n",
       "      <th>Evap_tavg</th>\n",
       "      <th>GWS_tavg</th>\n",
       "      <th>Rainf_f_tavg</th>\n",
       "      <th>SWE_tavg</th>\n",
       "      <th>Tair_f_tavg</th>\n",
       "      <th>TWS_tavg</th>\n",
       "      <th>Si</th>\n",
       "    </tr>\n",
       "  </thead>\n",
       "  <tbody>\n",
       "    <tr>\n",
       "      <th>0</th>\n",
       "      <td>1993-05-03</td>\n",
       "      <td>1</td>\n",
       "      <td>2338.000</td>\n",
       "      <td>216.883582</td>\n",
       "      <td>14.846486</td>\n",
       "      <td>0.0</td>\n",
       "      <td>16.666667</td>\n",
       "      <td>0.0</td>\n",
       "      <td>0.0</td>\n",
       "      <td>83.333333</td>\n",
       "      <td>...</td>\n",
       "      <td>0.0</td>\n",
       "      <td>0.0</td>\n",
       "      <td>11.3483</td>\n",
       "      <td>0.000026</td>\n",
       "      <td>1190.799760</td>\n",
       "      <td>5.253330e-06</td>\n",
       "      <td>0.000000</td>\n",
       "      <td>291.896512</td>\n",
       "      <td>1537.101163</td>\n",
       "      <td>5.130</td>\n",
       "    </tr>\n",
       "    <tr>\n",
       "      <th>1</th>\n",
       "      <td>1993-06-01</td>\n",
       "      <td>1</td>\n",
       "      <td>2338.000</td>\n",
       "      <td>216.883582</td>\n",
       "      <td>14.846486</td>\n",
       "      <td>0.0</td>\n",
       "      <td>16.666667</td>\n",
       "      <td>0.0</td>\n",
       "      <td>0.0</td>\n",
       "      <td>83.333333</td>\n",
       "      <td>...</td>\n",
       "      <td>0.0</td>\n",
       "      <td>0.0</td>\n",
       "      <td>1.8395</td>\n",
       "      <td>0.000039</td>\n",
       "      <td>1182.722390</td>\n",
       "      <td>2.031862e-05</td>\n",
       "      <td>0.000000</td>\n",
       "      <td>291.775943</td>\n",
       "      <td>1525.215410</td>\n",
       "      <td>3.830</td>\n",
       "    </tr>\n",
       "    <tr>\n",
       "      <th>2</th>\n",
       "      <td>1993-06-14</td>\n",
       "      <td>1</td>\n",
       "      <td>2338.000</td>\n",
       "      <td>216.883582</td>\n",
       "      <td>14.846486</td>\n",
       "      <td>0.0</td>\n",
       "      <td>16.666667</td>\n",
       "      <td>0.0</td>\n",
       "      <td>0.0</td>\n",
       "      <td>83.333333</td>\n",
       "      <td>...</td>\n",
       "      <td>0.0</td>\n",
       "      <td>0.0</td>\n",
       "      <td>3.1130</td>\n",
       "      <td>0.000049</td>\n",
       "      <td>1181.684193</td>\n",
       "      <td>9.982761e-07</td>\n",
       "      <td>0.000000</td>\n",
       "      <td>296.202340</td>\n",
       "      <td>1524.535190</td>\n",
       "      <td>3.520</td>\n",
       "    </tr>\n",
       "    <tr>\n",
       "      <th>3</th>\n",
       "      <td>1993-06-28</td>\n",
       "      <td>1</td>\n",
       "      <td>2338.000</td>\n",
       "      <td>216.883582</td>\n",
       "      <td>14.846486</td>\n",
       "      <td>0.0</td>\n",
       "      <td>16.666667</td>\n",
       "      <td>0.0</td>\n",
       "      <td>0.0</td>\n",
       "      <td>83.333333</td>\n",
       "      <td>...</td>\n",
       "      <td>0.0</td>\n",
       "      <td>0.0</td>\n",
       "      <td>8.0938</td>\n",
       "      <td>0.000063</td>\n",
       "      <td>1161.078613</td>\n",
       "      <td>4.823615e-04</td>\n",
       "      <td>0.000000</td>\n",
       "      <td>299.243566</td>\n",
       "      <td>1505.652055</td>\n",
       "      <td>3.970</td>\n",
       "    </tr>\n",
       "    <tr>\n",
       "      <th>4</th>\n",
       "      <td>1993-11-10</td>\n",
       "      <td>1</td>\n",
       "      <td>2338.000</td>\n",
       "      <td>216.883582</td>\n",
       "      <td>14.846486</td>\n",
       "      <td>0.0</td>\n",
       "      <td>16.666667</td>\n",
       "      <td>0.0</td>\n",
       "      <td>0.0</td>\n",
       "      <td>83.333333</td>\n",
       "      <td>...</td>\n",
       "      <td>0.0</td>\n",
       "      <td>0.0</td>\n",
       "      <td>1.3867</td>\n",
       "      <td>0.000012</td>\n",
       "      <td>1246.437866</td>\n",
       "      <td>0.000000e+00</td>\n",
       "      <td>0.021731</td>\n",
       "      <td>278.846527</td>\n",
       "      <td>1607.760099</td>\n",
       "      <td>3.451</td>\n",
       "    </tr>\n",
       "    <tr>\n",
       "      <th>...</th>\n",
       "      <td>...</td>\n",
       "      <td>...</td>\n",
       "      <td>...</td>\n",
       "      <td>...</td>\n",
       "      <td>...</td>\n",
       "      <td>...</td>\n",
       "      <td>...</td>\n",
       "      <td>...</td>\n",
       "      <td>...</td>\n",
       "      <td>...</td>\n",
       "      <td>...</td>\n",
       "      <td>...</td>\n",
       "      <td>...</td>\n",
       "      <td>...</td>\n",
       "      <td>...</td>\n",
       "      <td>...</td>\n",
       "      <td>...</td>\n",
       "      <td>...</td>\n",
       "      <td>...</td>\n",
       "      <td>...</td>\n",
       "      <td>...</td>\n",
       "    </tr>\n",
       "    <tr>\n",
       "      <th>172296</th>\n",
       "      <td>1973-12-27</td>\n",
       "      <td>8</td>\n",
       "      <td>0.156</td>\n",
       "      <td>619.000000</td>\n",
       "      <td>15.415200</td>\n",
       "      <td>0.0</td>\n",
       "      <td>0.000000</td>\n",
       "      <td>100.0</td>\n",
       "      <td>0.0</td>\n",
       "      <td>0.000000</td>\n",
       "      <td>...</td>\n",
       "      <td>0.0</td>\n",
       "      <td>0.0</td>\n",
       "      <td>0.0000</td>\n",
       "      <td>0.000006</td>\n",
       "      <td>1691.611084</td>\n",
       "      <td>1.065027e-04</td>\n",
       "      <td>0.000000</td>\n",
       "      <td>275.430176</td>\n",
       "      <td>2019.890503</td>\n",
       "      <td>0.000</td>\n",
       "    </tr>\n",
       "    <tr>\n",
       "      <th>172297</th>\n",
       "      <td>1973-12-28</td>\n",
       "      <td>8</td>\n",
       "      <td>0.156</td>\n",
       "      <td>619.000000</td>\n",
       "      <td>15.415200</td>\n",
       "      <td>0.0</td>\n",
       "      <td>0.000000</td>\n",
       "      <td>100.0</td>\n",
       "      <td>0.0</td>\n",
       "      <td>0.000000</td>\n",
       "      <td>...</td>\n",
       "      <td>0.0</td>\n",
       "      <td>0.0</td>\n",
       "      <td>0.0000</td>\n",
       "      <td>0.000012</td>\n",
       "      <td>1693.959839</td>\n",
       "      <td>7.055614e-05</td>\n",
       "      <td>0.131538</td>\n",
       "      <td>274.013062</td>\n",
       "      <td>2024.176147</td>\n",
       "      <td>0.000</td>\n",
       "    </tr>\n",
       "    <tr>\n",
       "      <th>172298</th>\n",
       "      <td>1973-12-29</td>\n",
       "      <td>8</td>\n",
       "      <td>0.156</td>\n",
       "      <td>619.000000</td>\n",
       "      <td>15.415200</td>\n",
       "      <td>0.0</td>\n",
       "      <td>0.000000</td>\n",
       "      <td>100.0</td>\n",
       "      <td>0.0</td>\n",
       "      <td>0.000000</td>\n",
       "      <td>...</td>\n",
       "      <td>0.0</td>\n",
       "      <td>0.0</td>\n",
       "      <td>0.0000</td>\n",
       "      <td>0.000023</td>\n",
       "      <td>1694.869629</td>\n",
       "      <td>3.651223e-05</td>\n",
       "      <td>2.130459</td>\n",
       "      <td>263.611389</td>\n",
       "      <td>2025.314819</td>\n",
       "      <td>0.000</td>\n",
       "    </tr>\n",
       "    <tr>\n",
       "      <th>172299</th>\n",
       "      <td>1973-12-30</td>\n",
       "      <td>8</td>\n",
       "      <td>0.156</td>\n",
       "      <td>619.000000</td>\n",
       "      <td>15.415200</td>\n",
       "      <td>0.0</td>\n",
       "      <td>0.000000</td>\n",
       "      <td>100.0</td>\n",
       "      <td>0.0</td>\n",
       "      <td>0.000000</td>\n",
       "      <td>...</td>\n",
       "      <td>0.0</td>\n",
       "      <td>0.0</td>\n",
       "      <td>0.0000</td>\n",
       "      <td>0.000019</td>\n",
       "      <td>1694.867798</td>\n",
       "      <td>0.000000e+00</td>\n",
       "      <td>3.363919</td>\n",
       "      <td>264.682861</td>\n",
       "      <td>2024.714111</td>\n",
       "      <td>0.000</td>\n",
       "    </tr>\n",
       "    <tr>\n",
       "      <th>172300</th>\n",
       "      <td>1973-12-31</td>\n",
       "      <td>8</td>\n",
       "      <td>0.156</td>\n",
       "      <td>619.000000</td>\n",
       "      <td>15.415200</td>\n",
       "      <td>0.0</td>\n",
       "      <td>0.000000</td>\n",
       "      <td>100.0</td>\n",
       "      <td>0.0</td>\n",
       "      <td>0.000000</td>\n",
       "      <td>...</td>\n",
       "      <td>0.0</td>\n",
       "      <td>0.0</td>\n",
       "      <td>0.0000</td>\n",
       "      <td>0.000015</td>\n",
       "      <td>1694.586060</td>\n",
       "      <td>0.000000e+00</td>\n",
       "      <td>2.936522</td>\n",
       "      <td>266.320557</td>\n",
       "      <td>2022.680176</td>\n",
       "      <td>0.000</td>\n",
       "    </tr>\n",
       "  </tbody>\n",
       "</table>\n",
       "<p>172301 rows × 27 columns</p>\n",
       "</div>"
      ],
      "text/plain": [
       "              Date  Stream  drainSqKm  elevation_mean_m  Max_Daylength  \\\n",
       "0       1993-05-03       1   2338.000        216.883582      14.846486   \n",
       "1       1993-06-01       1   2338.000        216.883582      14.846486   \n",
       "2       1993-06-14       1   2338.000        216.883582      14.846486   \n",
       "3       1993-06-28       1   2338.000        216.883582      14.846486   \n",
       "4       1993-11-10       1   2338.000        216.883582      14.846486   \n",
       "...            ...     ...        ...               ...            ...   \n",
       "172296  1973-12-27       8      0.156        619.000000      15.415200   \n",
       "172297  1973-12-28       8      0.156        619.000000      15.415200   \n",
       "172298  1973-12-29       8      0.156        619.000000      15.415200   \n",
       "172299  1973-12-30       8      0.156        619.000000      15.415200   \n",
       "172300  1973-12-31       8      0.156        619.000000      15.415200   \n",
       "\n",
       "        rocks_volcanic  rocks_sedimentary  rocks_plutonic  rocks_metamorphic  \\\n",
       "0                  0.0          16.666667             0.0                0.0   \n",
       "1                  0.0          16.666667             0.0                0.0   \n",
       "2                  0.0          16.666667             0.0                0.0   \n",
       "3                  0.0          16.666667             0.0                0.0   \n",
       "4                  0.0          16.666667             0.0                0.0   \n",
       "...                ...                ...             ...                ...   \n",
       "172296             0.0           0.000000           100.0                0.0   \n",
       "172297             0.0           0.000000           100.0                0.0   \n",
       "172298             0.0           0.000000           100.0                0.0   \n",
       "172299             0.0           0.000000           100.0                0.0   \n",
       "172300             0.0           0.000000           100.0                0.0   \n",
       "\n",
       "        rocks_carbonate_evaporite  ...  land_wetland  \\\n",
       "0                       83.333333  ...           0.0   \n",
       "1                       83.333333  ...           0.0   \n",
       "2                       83.333333  ...           0.0   \n",
       "3                       83.333333  ...           0.0   \n",
       "4                       83.333333  ...           0.0   \n",
       "...                           ...  ...           ...   \n",
       "172296                   0.000000  ...           0.0   \n",
       "172297                   0.000000  ...           0.0   \n",
       "172298                   0.000000  ...           0.0   \n",
       "172299                   0.000000  ...           0.0   \n",
       "172300                   0.000000  ...           0.0   \n",
       "\n",
       "        land_evergreen_broadleaf_forest        Q  Evap_tavg     GWS_tavg  \\\n",
       "0                                   0.0  11.3483   0.000026  1190.799760   \n",
       "1                                   0.0   1.8395   0.000039  1182.722390   \n",
       "2                                   0.0   3.1130   0.000049  1181.684193   \n",
       "3                                   0.0   8.0938   0.000063  1161.078613   \n",
       "4                                   0.0   1.3867   0.000012  1246.437866   \n",
       "...                                 ...      ...        ...          ...   \n",
       "172296                              0.0   0.0000   0.000006  1691.611084   \n",
       "172297                              0.0   0.0000   0.000012  1693.959839   \n",
       "172298                              0.0   0.0000   0.000023  1694.869629   \n",
       "172299                              0.0   0.0000   0.000019  1694.867798   \n",
       "172300                              0.0   0.0000   0.000015  1694.586060   \n",
       "\n",
       "        Rainf_f_tavg  SWE_tavg  Tair_f_tavg     TWS_tavg     Si  \n",
       "0       5.253330e-06  0.000000   291.896512  1537.101163  5.130  \n",
       "1       2.031862e-05  0.000000   291.775943  1525.215410  3.830  \n",
       "2       9.982761e-07  0.000000   296.202340  1524.535190  3.520  \n",
       "3       4.823615e-04  0.000000   299.243566  1505.652055  3.970  \n",
       "4       0.000000e+00  0.021731   278.846527  1607.760099  3.451  \n",
       "...              ...       ...          ...          ...    ...  \n",
       "172296  1.065027e-04  0.000000   275.430176  2019.890503  0.000  \n",
       "172297  7.055614e-05  0.131538   274.013062  2024.176147  0.000  \n",
       "172298  3.651223e-05  2.130459   263.611389  2025.314819  0.000  \n",
       "172299  0.000000e+00  3.363919   264.682861  2024.714111  0.000  \n",
       "172300  0.000000e+00  2.936522   266.320557  2022.680176  0.000  \n",
       "\n",
       "[172301 rows x 27 columns]"
      ]
     },
     "execution_count": 11,
     "metadata": {},
     "output_type": "execute_result"
    }
   ],
   "source": [
    "date_column = merged_df['Date']\n",
    "merged_df.drop(labels=['Date'], axis=1, inplace=True)\n",
    "merged_df.insert(0, 'Date', date_column)\n",
    "merged_df\n",
    "\n"
   ]
  },
  {
   "cell_type": "code",
   "execution_count": 12,
   "id": "04acebf6",
   "metadata": {},
   "outputs": [
    {
     "name": "stdout",
     "output_type": "stream",
     "text": [
      "[1 4 2 3 9 6 7 5 8]\n",
      "0    5.130\n",
      "1    3.830\n",
      "2    3.520\n",
      "3    3.970\n",
      "4    3.451\n",
      "Name: Si, dtype: float64\n",
      "19354    7.95\n",
      "19355    8.17\n",
      "19356    8.64\n",
      "19357    9.20\n",
      "19358    8.96\n",
      "Name: Si, dtype: float64\n",
      "37315    2.304485\n",
      "37316    1.837044\n",
      "37317    1.935206\n",
      "37318    2.056741\n",
      "37319    2.603647\n",
      "Name: Si, dtype: float64\n",
      "56083    1.135162\n",
      "56084    1.090853\n",
      "56085    1.162877\n",
      "56086    1.020454\n",
      "56087    2.338822\n",
      "Name: Si, dtype: float64\n",
      "74340    14.958117\n",
      "74341    16.594161\n",
      "74342    16.033231\n",
      "74343    16.594161\n",
      "74344    16.453928\n",
      "Name: Si, dtype: float64\n",
      "92232    14.864628\n",
      "92233    14.958117\n",
      "92234    13.929746\n",
      "92235    13.509049\n",
      "92236    13.135096\n",
      "Name: Si, dtype: float64\n",
      "110489    1.098487\n",
      "110490    0.560929\n",
      "110491    1.098487\n",
      "110492    0.514185\n",
      "110493    1.098487\n",
      "Name: Si, dtype: float64\n",
      "129329    1.238719\n",
      "129330    1.215347\n",
      "129331    1.262091\n",
      "129332    1.215347\n",
      "129333    1.308835\n",
      "Name: Si, dtype: float64\n",
      "147952    2.575601\n",
      "147953    2.771926\n",
      "147954    2.379275\n",
      "147955    2.145555\n",
      "147956    2.383950\n",
      "Name: Si, dtype: float64\n"
     ]
    }
   ],
   "source": [
    "unique_streams = merged_df['Stream'].unique()\n",
    "\n",
    "print(unique_streams)\n",
    "stream_dataframes = {}\n",
    "\n",
    "for stream in unique_streams:\n",
    "    stream_df = merged_df[merged_df['Stream'] == stream]\n",
    "    print(stream_df[\"Si\"].head(5))\n",
    "    stream_dataframes[stream] = stream_df"
   ]
  },
  {
   "cell_type": "code",
   "execution_count": 13,
   "id": "2c41fa85",
   "metadata": {
    "scrolled": true
   },
   "outputs": [
    {
     "name": "stdout",
     "output_type": "stream",
     "text": [
      "NaN or zero count in 1: 18953\n",
      "19354\n",
      "NaN or zero count in 4: 17722\n",
      "17961\n",
      "NaN or zero count in 2: 18664\n",
      "18768\n",
      "NaN or zero count in 3: 17486\n",
      "18257\n",
      "NaN or zero count in 9: 16579\n",
      "17892\n",
      "NaN or zero count in 6: 17918\n",
      "18257\n",
      "NaN or zero count in 7: 18356\n",
      "18840\n",
      "NaN or zero count in 5: 18363\n",
      "18623\n",
      "NaN or zero count in 8: 23732\n",
      "24349\n"
     ]
    }
   ],
   "source": [
    "for stream in stream_dataframes:\n",
    "    stream_dataframes[stream] = stream_dataframes[stream].sort_values(by='Date')\n",
    "    sorted_stream =  stream_dataframes[stream] \n",
    "    nan_zero_count = (sorted_stream[\"Si\"] == 0).sum()\n",
    "    print(f\"NaN or zero count in {stream}: {nan_zero_count}\")\n",
    "    print(len(sorted_stream))"
   ]
  },
  {
   "cell_type": "code",
   "execution_count": 14,
   "id": "e898e2a7",
   "metadata": {},
   "outputs": [
    {
     "name": "stdout",
     "output_type": "stream",
     "text": [
      "401\n"
     ]
    }
   ],
   "source": [
    "stream_dataframes[1][\"Si\"]\n",
    "\n",
    "nan_zero_count = (stream_dataframes[1][\"Si\"] != 0.0).sum()\n",
    "print(nan_zero_count)"
   ]
  },
  {
   "cell_type": "code",
   "execution_count": 15,
   "id": "16784718",
   "metadata": {},
   "outputs": [
    {
     "name": "stdout",
     "output_type": "stream",
     "text": [
      "401\n",
      "239\n",
      "104\n",
      "771\n",
      "1313\n",
      "339\n",
      "484\n",
      "260\n",
      "617\n"
     ]
    }
   ],
   "source": [
    "for stream, df in stream_dataframes.items():\n",
    "    # Ensure the 'Date' column is in datetime format\n",
    "    df['Date'] = pd.to_datetime(df['Date'])\n",
    "\n",
    "    # Extract year, month, and day\n",
    "    df['Year'] = df['Date'].dt.year\n",
    "    df['Month'] = df['Date'].dt.month\n",
    "    df['Day'] = df['Date'].dt.day\n",
    "    \n",
    "    # Drop the original 'Date' column\n",
    "    df.drop(columns=['Date'], inplace=True)\n",
    "    \n",
    "    prcount = (df[\"Si\"] != 0).sum()\n",
    "    print(prcount)\n",
    "    # Update the dictionary with the modified dataframe\n",
    "    stream_dataframes[stream] = df\n",
    "    \n",
    "    "
   ]
  },
  {
   "cell_type": "code",
   "execution_count": 16,
   "id": "72036fd0",
   "metadata": {},
   "outputs": [
    {
     "name": "stdout",
     "output_type": "stream",
     "text": [
      "Shape of dataframe for stream '1': (19354, 29)\n",
      "Shape of dataframe for stream '4': (17961, 29)\n",
      "Shape of dataframe for stream '2': (18768, 29)\n",
      "Shape of dataframe for stream '3': (18257, 29)\n",
      "Shape of dataframe for stream '9': (17892, 29)\n",
      "Shape of dataframe for stream '6': (18257, 29)\n",
      "Shape of dataframe for stream '7': (18840, 29)\n",
      "Shape of dataframe for stream '5': (18623, 29)\n",
      "Shape of dataframe for stream '8': (24349, 29)\n"
     ]
    }
   ],
   "source": [
    "# Iterate over each dataframe in the dictionary and print its shape\n",
    "for stream, df in stream_dataframes.items():\n",
    "    print(f\"Shape of dataframe for stream '{stream}': {df.shape}\")\n"
   ]
  },
  {
   "cell_type": "code",
   "execution_count": 17,
   "id": "12c18756",
   "metadata": {},
   "outputs": [
    {
     "name": "stdout",
     "output_type": "stream",
     "text": [
      "401\n",
      "239\n",
      "104\n",
      "771\n",
      "1313\n",
      "339\n",
      "484\n",
      "260\n",
      "617\n"
     ]
    }
   ],
   "source": [
    "from sklearn.preprocessing import MinMaxScaler\n",
    "\n",
    "# Iterate over each dataframe in the dictionary\n",
    "for stream, df in stream_dataframes.items():\n",
    "    # Determine the columns to scale, excluding 'Year', 'Month', 'Day', 'Stream', and 'Si'\n",
    "    columns_to_scale = [col for col in df.columns if col not in ['Year', 'Month', 'Day', 'Stream', 'Si']]\n",
    "    \n",
    "    # Apply MinMax scaling\n",
    "    scaler = MinMaxScaler()\n",
    "    df[columns_to_scale] = scaler.fit_transform(df[columns_to_scale])\n",
    "\n",
    "    \n",
    "    # Update the dictionary with the scaled dataframe\n",
    "    stream_dataframes[stream] = df\n",
    "    countcc = (df[\"Si\"] != 0).sum()\n",
    "    print(countcc)"
   ]
  },
  {
   "cell_type": "code",
   "execution_count": 18,
   "id": "d17b7c8b",
   "metadata": {},
   "outputs": [
    {
     "name": "stdout",
     "output_type": "stream",
     "text": [
      "train 266\n",
      "test 135\n",
      "train 75\n",
      "test 164\n",
      "train 49\n",
      "test 55\n",
      "train 438\n",
      "test 333\n",
      "train 967\n",
      "test 346\n",
      "train 191\n",
      "test 148\n",
      "train 296\n",
      "test 188\n",
      "train 139\n",
      "test 121\n",
      "train 520\n",
      "test 97\n",
      "Training and testing set shapes for stream '1':\n",
      "Train: (15483, 29), Test: (3871, 29)\n",
      "Training and testing set shapes for stream '4':\n",
      "Train: (14368, 29), Test: (3593, 29)\n",
      "Training and testing set shapes for stream '2':\n",
      "Train: (15014, 29), Test: (3754, 29)\n",
      "Training and testing set shapes for stream '3':\n",
      "Train: (14605, 29), Test: (3652, 29)\n",
      "Training and testing set shapes for stream '9':\n",
      "Train: (14313, 29), Test: (3579, 29)\n",
      "Training and testing set shapes for stream '6':\n",
      "Train: (14605, 29), Test: (3652, 29)\n",
      "Training and testing set shapes for stream '7':\n",
      "Train: (15072, 29), Test: (3768, 29)\n",
      "Training and testing set shapes for stream '5':\n",
      "Train: (14898, 29), Test: (3725, 29)\n",
      "Training and testing set shapes for stream '8':\n",
      "Train: (19479, 29), Test: (4870, 29)\n"
     ]
    }
   ],
   "source": [
    "# Define split ratio\n",
    "split_ratio = 0.8\n",
    "\n",
    "# Initialize dictionaries to store the training and testing sets\n",
    "train_dataframes = {}\n",
    "test_dataframes = {}\n",
    "\n",
    "# Iterate over each dataframe in the dictionary\n",
    "for stream, df in stream_dataframes.items():\n",
    "    # Calculate the split index\n",
    "    train_size = int(len(df) * split_ratio)\n",
    "    \n",
    "    # Split the dataframe into training and testing sets\n",
    "    train_df = df[:train_size]\n",
    "    test_df = df[train_size:]\n",
    "    \n",
    "    # Store the training and testing sets in their respective dictionaries\n",
    "    train_dataframes[stream] = train_df\n",
    "    countcc = (train_df[\"Si\"] != 0).sum()\n",
    "    print(\"train\", countcc)\n",
    "   \n",
    "\n",
    "    test_dataframes[stream] = test_df\n",
    "    countcc = (test_df[\"Si\"] != 0).sum()\n",
    "    print(\"test\", countcc)\n",
    "\n",
    "# Verify the splits\n",
    "for stream in train_dataframes:\n",
    "    print(f\"Training and testing set shapes for stream '{stream}':\")\n",
    "    print(f\"Train: {train_dataframes[stream].shape}, Test: {test_dataframes[stream].shape}\")\n"
   ]
  },
  {
   "cell_type": "code",
   "execution_count": 19,
   "id": "9c455cf3",
   "metadata": {},
   "outputs": [
    {
     "data": {
      "text/plain": [
       "dict_keys([1, 4, 2, 3, 9, 6, 7, 5, 8])"
      ]
     },
     "execution_count": 19,
     "metadata": {},
     "output_type": "execute_result"
    }
   ],
   "source": [
    "train_dataframes.keys()"
   ]
  },
  {
   "cell_type": "code",
   "execution_count": 20,
   "id": "8cea39f0",
   "metadata": {},
   "outputs": [],
   "source": [
    "def create_sequences(input_data: pd.DataFrame, target_column, sequence_length=3):\n",
    "  sequences = []\n",
    "  data_size = len(input_data)\n",
    "\n",
    "  for i in tqdm(range(data_size - sequence_length)):\n",
    "    sequence = input_data[i:i+sequence_length]\n",
    "    label_position = i + sequence_length\n",
    "    label = input_data.iloc[label_position][target_column]\n",
    "\n",
    "    sequences.append((sequence, label))\n",
    "\n",
    "  return sequences"
   ]
  },
  {
   "cell_type": "code",
   "execution_count": 21,
   "id": "02613b2b",
   "metadata": {},
   "outputs": [],
   "source": [
    "SEQUENCE_LENGTH = 10"
   ]
  },
  {
   "cell_type": "code",
   "execution_count": 22,
   "id": "3b0d1eec",
   "metadata": {},
   "outputs": [],
   "source": [
    "train_sequences = {}\n",
    "test_sequences = {}"
   ]
  },
  {
   "cell_type": "code",
   "execution_count": 23,
   "id": "8776033b",
   "metadata": {},
   "outputs": [
    {
     "name": "stdout",
     "output_type": "stream",
     "text": [
      "Creating train sequences for stream '1'...\n"
     ]
    },
    {
     "data": {
      "application/vnd.jupyter.widget-view+json": {
       "model_id": "1af14c1922534d0297e283c5fea917f0",
       "version_major": 2,
       "version_minor": 0
      },
      "text/plain": [
       "  0%|          | 0/15473 [00:00<?, ?it/s]"
      ]
     },
     "metadata": {},
     "output_type": "display_data"
    },
    {
     "name": "stdout",
     "output_type": "stream",
     "text": [
      "Creating train sequences for stream '4'...\n"
     ]
    },
    {
     "data": {
      "application/vnd.jupyter.widget-view+json": {
       "model_id": "0cc9316562104866be9b124e7c7e5b49",
       "version_major": 2,
       "version_minor": 0
      },
      "text/plain": [
       "  0%|          | 0/14358 [00:00<?, ?it/s]"
      ]
     },
     "metadata": {},
     "output_type": "display_data"
    },
    {
     "name": "stdout",
     "output_type": "stream",
     "text": [
      "Creating train sequences for stream '2'...\n"
     ]
    },
    {
     "data": {
      "application/vnd.jupyter.widget-view+json": {
       "model_id": "35fe53c3d8ce41c7bb992c72f6e6b404",
       "version_major": 2,
       "version_minor": 0
      },
      "text/plain": [
       "  0%|          | 0/15004 [00:00<?, ?it/s]"
      ]
     },
     "metadata": {},
     "output_type": "display_data"
    },
    {
     "name": "stdout",
     "output_type": "stream",
     "text": [
      "Creating train sequences for stream '3'...\n"
     ]
    },
    {
     "data": {
      "application/vnd.jupyter.widget-view+json": {
       "model_id": "b87536fc47734590832053bf8428dc9e",
       "version_major": 2,
       "version_minor": 0
      },
      "text/plain": [
       "  0%|          | 0/14595 [00:00<?, ?it/s]"
      ]
     },
     "metadata": {},
     "output_type": "display_data"
    },
    {
     "name": "stdout",
     "output_type": "stream",
     "text": [
      "Creating train sequences for stream '9'...\n"
     ]
    },
    {
     "data": {
      "application/vnd.jupyter.widget-view+json": {
       "model_id": "6422fbe815ad4084bfee956c0cdb8892",
       "version_major": 2,
       "version_minor": 0
      },
      "text/plain": [
       "  0%|          | 0/14303 [00:00<?, ?it/s]"
      ]
     },
     "metadata": {},
     "output_type": "display_data"
    },
    {
     "name": "stdout",
     "output_type": "stream",
     "text": [
      "Creating train sequences for stream '6'...\n"
     ]
    },
    {
     "data": {
      "application/vnd.jupyter.widget-view+json": {
       "model_id": "9c85d78dc2394e7e92e9285eb7465656",
       "version_major": 2,
       "version_minor": 0
      },
      "text/plain": [
       "  0%|          | 0/14595 [00:00<?, ?it/s]"
      ]
     },
     "metadata": {},
     "output_type": "display_data"
    },
    {
     "name": "stdout",
     "output_type": "stream",
     "text": [
      "Creating train sequences for stream '7'...\n"
     ]
    },
    {
     "data": {
      "application/vnd.jupyter.widget-view+json": {
       "model_id": "3cbff03eebac4ca7b45c13d352f9ebd9",
       "version_major": 2,
       "version_minor": 0
      },
      "text/plain": [
       "  0%|          | 0/15062 [00:00<?, ?it/s]"
      ]
     },
     "metadata": {},
     "output_type": "display_data"
    },
    {
     "name": "stdout",
     "output_type": "stream",
     "text": [
      "Creating train sequences for stream '5'...\n"
     ]
    },
    {
     "data": {
      "application/vnd.jupyter.widget-view+json": {
       "model_id": "bdb642ec66ab4c43afb21d11d2241e96",
       "version_major": 2,
       "version_minor": 0
      },
      "text/plain": [
       "  0%|          | 0/14888 [00:00<?, ?it/s]"
      ]
     },
     "metadata": {},
     "output_type": "display_data"
    },
    {
     "name": "stdout",
     "output_type": "stream",
     "text": [
      "Creating train sequences for stream '8'...\n"
     ]
    },
    {
     "data": {
      "application/vnd.jupyter.widget-view+json": {
       "model_id": "f166e7d2fc344263a3f34333fb1d321d",
       "version_major": 2,
       "version_minor": 0
      },
      "text/plain": [
       "  0%|          | 0/19469 [00:00<?, ?it/s]"
      ]
     },
     "metadata": {},
     "output_type": "display_data"
    },
    {
     "name": "stdout",
     "output_type": "stream",
     "text": [
      "Creating test sequences for stream '1'...\n"
     ]
    },
    {
     "data": {
      "application/vnd.jupyter.widget-view+json": {
       "model_id": "eaf91127bb604911b53c72f90d473fad",
       "version_major": 2,
       "version_minor": 0
      },
      "text/plain": [
       "  0%|          | 0/3861 [00:00<?, ?it/s]"
      ]
     },
     "metadata": {},
     "output_type": "display_data"
    },
    {
     "name": "stdout",
     "output_type": "stream",
     "text": [
      "Creating test sequences for stream '4'...\n"
     ]
    },
    {
     "data": {
      "application/vnd.jupyter.widget-view+json": {
       "model_id": "c5d4c78d3ae0420789ca40ea6cb50971",
       "version_major": 2,
       "version_minor": 0
      },
      "text/plain": [
       "  0%|          | 0/3583 [00:00<?, ?it/s]"
      ]
     },
     "metadata": {},
     "output_type": "display_data"
    },
    {
     "name": "stdout",
     "output_type": "stream",
     "text": [
      "Creating test sequences for stream '2'...\n"
     ]
    },
    {
     "data": {
      "application/vnd.jupyter.widget-view+json": {
       "model_id": "4cdbe79f14b74e49bfc6ec2cebd7b936",
       "version_major": 2,
       "version_minor": 0
      },
      "text/plain": [
       "  0%|          | 0/3744 [00:00<?, ?it/s]"
      ]
     },
     "metadata": {},
     "output_type": "display_data"
    },
    {
     "name": "stdout",
     "output_type": "stream",
     "text": [
      "Creating test sequences for stream '3'...\n"
     ]
    },
    {
     "data": {
      "application/vnd.jupyter.widget-view+json": {
       "model_id": "be71080d7ead4f44b730f54182f1ffd7",
       "version_major": 2,
       "version_minor": 0
      },
      "text/plain": [
       "  0%|          | 0/3642 [00:00<?, ?it/s]"
      ]
     },
     "metadata": {},
     "output_type": "display_data"
    },
    {
     "name": "stdout",
     "output_type": "stream",
     "text": [
      "Creating test sequences for stream '9'...\n"
     ]
    },
    {
     "data": {
      "application/vnd.jupyter.widget-view+json": {
       "model_id": "e94199470037492182ea523603aaff72",
       "version_major": 2,
       "version_minor": 0
      },
      "text/plain": [
       "  0%|          | 0/3569 [00:00<?, ?it/s]"
      ]
     },
     "metadata": {},
     "output_type": "display_data"
    },
    {
     "name": "stdout",
     "output_type": "stream",
     "text": [
      "Creating test sequences for stream '6'...\n"
     ]
    },
    {
     "data": {
      "application/vnd.jupyter.widget-view+json": {
       "model_id": "dc6dbfc8ae764b8ea44d5167c1f4a440",
       "version_major": 2,
       "version_minor": 0
      },
      "text/plain": [
       "  0%|          | 0/3642 [00:00<?, ?it/s]"
      ]
     },
     "metadata": {},
     "output_type": "display_data"
    },
    {
     "name": "stdout",
     "output_type": "stream",
     "text": [
      "Creating test sequences for stream '7'...\n"
     ]
    },
    {
     "data": {
      "application/vnd.jupyter.widget-view+json": {
       "model_id": "ecb1ffa3ee364afb9fb75b03bf91c07e",
       "version_major": 2,
       "version_minor": 0
      },
      "text/plain": [
       "  0%|          | 0/3758 [00:00<?, ?it/s]"
      ]
     },
     "metadata": {},
     "output_type": "display_data"
    },
    {
     "name": "stdout",
     "output_type": "stream",
     "text": [
      "Creating test sequences for stream '5'...\n"
     ]
    },
    {
     "data": {
      "application/vnd.jupyter.widget-view+json": {
       "model_id": "8afedcec8acc42f0b153defbd25aa569",
       "version_major": 2,
       "version_minor": 0
      },
      "text/plain": [
       "  0%|          | 0/3715 [00:00<?, ?it/s]"
      ]
     },
     "metadata": {},
     "output_type": "display_data"
    },
    {
     "name": "stdout",
     "output_type": "stream",
     "text": [
      "Creating test sequences for stream '8'...\n"
     ]
    },
    {
     "data": {
      "application/vnd.jupyter.widget-view+json": {
       "model_id": "c7c105196f624801a84cd191374441ab",
       "version_major": 2,
       "version_minor": 0
      },
      "text/plain": [
       "  0%|          | 0/4860 [00:00<?, ?it/s]"
      ]
     },
     "metadata": {},
     "output_type": "display_data"
    }
   ],
   "source": [
    "for stream, train_df in train_dataframes.items():\n",
    "    print(f\"Creating train sequences for stream '{stream}'...\")\n",
    "    train_sequences[stream] = create_sequences(train_df, \"Si\", sequence_length=SEQUENCE_LENGTH)\n",
    "    \n",
    "for stream, test_df in test_dataframes.items():\n",
    "    print(f\"Creating test sequences for stream '{stream}'...\")\n",
    "    test_sequences[stream] = create_sequences(test_df, \"Si\", sequence_length=SEQUENCE_LENGTH)"
   ]
  },
  {
   "cell_type": "code",
   "execution_count": 24,
   "id": "e82ac755",
   "metadata": {},
   "outputs": [
    {
     "name": "stdout",
     "output_type": "stream",
     "text": [
      "Number of train sequences for stream '1': 15473\n",
      "1 : 266\n",
      "Number of train sequences for stream '4': 14358\n",
      "4 : 75\n",
      "Number of train sequences for stream '2': 15004\n",
      "2 : 49\n",
      "Number of train sequences for stream '3': 14595\n",
      "3 : 438\n",
      "Number of train sequences for stream '9': 14303\n",
      "9 : 967\n",
      "Number of train sequences for stream '6': 14595\n",
      "6 : 191\n",
      "Number of train sequences for stream '7': 15062\n",
      "7 : 296\n",
      "Number of train sequences for stream '5': 14888\n",
      "5 : 139\n",
      "Number of train sequences for stream '8': 19469\n",
      "8 : 520\n",
      "Number of test sequences for stream '1': 3861\n",
      "1 : 134\n",
      "Number of test sequences for stream '4': 3583\n",
      "4 : 163\n",
      "Number of test sequences for stream '2': 3744\n",
      "2 : 55\n",
      "Number of test sequences for stream '3': 3642\n",
      "3 : 332\n",
      "Number of test sequences for stream '9': 3569\n",
      "9 : 344\n",
      "Number of test sequences for stream '6': 3642\n",
      "6 : 148\n",
      "Number of test sequences for stream '7': 3758\n",
      "7 : 188\n",
      "Number of test sequences for stream '5': 3715\n",
      "5 : 121\n",
      "Number of test sequences for stream '8': 4860\n",
      "8 : 97\n"
     ]
    }
   ],
   "source": [
    "# Verify the creation of sequences\n",
    "for stream in train_sequences:\n",
    "    print(f\"Number of train sequences for stream '{stream}': {len(train_sequences[stream])}\")\n",
    "    lgth = len(train_sequences[stream])\n",
    "    countr = 0\n",
    "    for i in range(0, lgth):\n",
    "\n",
    "        if (train_sequences[stream][i][1] != 0.0):\n",
    "            \n",
    "            countr = countr + 1\n",
    "    print(f\"{stream} : {countr}\")\n",
    "\n",
    "for stream in test_sequences:\n",
    "    \n",
    "    print(f\"Number of test sequences for stream '{stream}': {len(test_sequences[stream])}\")\n",
    "    lgth = len(test_sequences[stream])\n",
    "    countr = 0\n",
    "    for i in range(0, lgth):\n",
    "\n",
    "        if (test_sequences[stream][i][1] != 0.0):\n",
    "            \n",
    "            countr = countr + 1\n",
    "    print(f\"{stream} : {countr}\")"
   ]
  },
  {
   "cell_type": "code",
   "execution_count": 25,
   "id": "c202e656",
   "metadata": {},
   "outputs": [
    {
     "name": "stdout",
     "output_type": "stream",
     "text": [
      "Number of filtered train sequences for stream '1': 266\n",
      "Number of filtered train sequences for stream '4': 75\n",
      "Number of filtered train sequences for stream '2': 49\n",
      "Number of filtered train sequences for stream '3': 438\n",
      "Number of filtered train sequences for stream '9': 967\n",
      "Number of filtered train sequences for stream '6': 191\n",
      "Number of filtered train sequences for stream '7': 296\n",
      "Number of filtered train sequences for stream '5': 139\n",
      "Number of filtered train sequences for stream '8': 520\n",
      "2941\n",
      "Number of filtered test sequences for stream '1': 134\n",
      "Number of filtered test sequences for stream '4': 163\n",
      "Number of filtered test sequences for stream '2': 55\n",
      "Number of filtered test sequences for stream '3': 332\n",
      "Number of filtered test sequences for stream '9': 344\n",
      "Number of filtered test sequences for stream '6': 148\n",
      "Number of filtered test sequences for stream '7': 188\n",
      "Number of filtered test sequences for stream '5': 121\n",
      "Number of filtered test sequences for stream '8': 97\n",
      "1582\n"
     ]
    }
   ],
   "source": [
    "# Initialize dictionaries to store filtered sequences\n",
    "filtered_train_sequences = {}\n",
    "filtered_test_sequences = {}\n",
    "\n",
    "# Filter sequences in the existing train_sequences and test_sequences dictionaries\n",
    "for stream, sequences in train_sequences.items():\n",
    "    filtered_train_sequences[stream] = [(seq, label) for seq, label in sequences if not (np.isnan(label) or label == 0.0)]\n",
    "    \n",
    "\n",
    "for stream, sequences in test_sequences.items():\n",
    "    filtered_test_sequences[stream] = [(seq, label) for seq, label in sequences if not (np.isnan(label) or label == 0.0)]\n",
    "    \n",
    "t_train = 0\n",
    "# Verify the filtered sequences\n",
    "for stream in filtered_train_sequences:\n",
    "    print(f\"Number of filtered train sequences for stream '{stream}': {len(filtered_train_sequences[stream])}\")\n",
    "    lgth = len(filtered_train_sequences[stream])\n",
    "    countr = 0\n",
    "    for i in range(0, lgth):\n",
    "\n",
    "        if (filtered_train_sequences[stream][i][1] != 0.0):\n",
    "            \n",
    "            countr = countr + 1\n",
    "    t_train = t_train + countr\n",
    "#     print(f\"{stream} : {countr}\")\n",
    "print(t_train)\n",
    "t_test = 0\n",
    "for stream in filtered_test_sequences:\n",
    "    print(f\"Number of filtered test sequences for stream '{stream}': {len(filtered_test_sequences[stream])}\")\n",
    "\n",
    "    lgth = len(filtered_test_sequences[stream])\n",
    "    countr = 0\n",
    "    for i in range(0, lgth):\n",
    "\n",
    "        if (filtered_test_sequences[stream][i][1] != 0.0):\n",
    "            \n",
    "            countr = countr + 1\n",
    "#     print(f\"{stream} : {countr}\")\n",
    "    t_test = t_test + countr\n",
    "print(t_test)\n"
   ]
  },
  {
   "cell_type": "code",
   "execution_count": 26,
   "id": "99f78e23",
   "metadata": {},
   "outputs": [
    {
     "data": {
      "text/plain": [
       "2.115583135"
      ]
     },
     "execution_count": 26,
     "metadata": {},
     "output_type": "execute_result"
    }
   ],
   "source": [
    "filtered_train_sequences[3][145][1]"
   ]
  },
  {
   "cell_type": "code",
   "execution_count": 27,
   "id": "626d5038",
   "metadata": {
    "scrolled": true
   },
   "outputs": [],
   "source": [
    "# Assign variables for filtered sequences for each stream in filtered_train_sequences\n",
    "train_sequences_CU11_6M = filtered_train_sequences[1]\n",
    "train_sequences_Kolyma = filtered_train_sequences[2]\n",
    "train_sequences_LMP = filtered_train_sequences[3]\n",
    "train_sequences_Lookout = filtered_train_sequences[4]\n",
    "train_sequences_Q1 = filtered_train_sequences[9]\n",
    "train_sequences_STREORK = filtered_train_sequences[5]\n",
    "train_sequences_Sagehen = filtered_train_sequences[6]\n",
    "train_sequences_Site11564 = filtered_train_sequences[7]\n",
    "train_sequences_WS2 = filtered_train_sequences[8]\n",
    "\n",
    "# Assign variables for filtered sequences for each stream in filtered_test_sequences\n",
    "test_sequences_CU11_6M = filtered_test_sequences[1]\n",
    "test_sequences_Kolyma = filtered_test_sequences[2]\n",
    "test_sequences_LMP = filtered_test_sequences[3]\n",
    "test_sequences_Lookout = filtered_test_sequences[4]\n",
    "test_sequences_Q1 = filtered_test_sequences[9]\n",
    "test_sequences_STREORK = filtered_test_sequences[5]\n",
    "test_sequences_Sagehen = filtered_test_sequences[6]\n",
    "test_sequences_Site11564 = filtered_test_sequences[7]\n",
    "test_sequences_WS2 = filtered_test_sequences[8]\n",
    "\n",
    "\n",
    "merged_list_train = train_sequences_CU11_6M + train_sequences_Kolyma + train_sequences_LMP + train_sequences_Lookout + \\\n",
    "              train_sequences_Q1 + train_sequences_STREORK + train_sequences_Sagehen + \\\n",
    "              train_sequences_Site11564 + train_sequences_WS2\n",
    "# ciour = 0\n",
    "# print(len(merged_list_train))\n",
    "# for i in range(0,len(merged_list_train) ):\n",
    "#     if merged_list_train[i][1] != 0:\n",
    "#         ciour = ciour + 1\n",
    "# print(ciour)\n",
    "\n",
    "merged_list_test = test_sequences_CU11_6M + test_sequences_Kolyma + test_sequences_LMP + test_sequences_Lookout + \\\n",
    "              test_sequences_Q1 + test_sequences_STREORK + test_sequences_Sagehen + \\\n",
    "              test_sequences_Site11564 + test_sequences_WS2\n",
    "# ciou = 0\n",
    "# print(len(merged_list_test))\n",
    "# for i in range(0,len(merged_list_test) ):\n",
    "#     if merged_list_test[i][1] != 0:\n",
    "#         ciou = ciou + 1\n",
    "# print(ciou)\n",
    "\n"
   ]
  },
  {
   "cell_type": "code",
   "execution_count": 28,
   "id": "7cf8ac0f",
   "metadata": {},
   "outputs": [
    {
     "data": {
      "text/plain": [
       "3.979"
      ]
     },
     "execution_count": 28,
     "metadata": {},
     "output_type": "execute_result"
    }
   ],
   "source": [
    "merged_list_test[2][1]"
   ]
  },
  {
   "cell_type": "code",
   "execution_count": 29,
   "id": "a15dd25e",
   "metadata": {},
   "outputs": [],
   "source": [
    "# Convert DataFrames to tensors\n",
    "X_train_list = [torch.tensor(merged_list_train[i][0].values) for i in range(len(merged_list_train))]\n",
    "y_train_list = [torch.tensor(merged_list_train[i][1]) for i in range(len(merged_list_train))]\n"
   ]
  },
  {
   "cell_type": "code",
   "execution_count": 30,
   "id": "edf41dee",
   "metadata": {},
   "outputs": [
    {
     "name": "stdout",
     "output_type": "stream",
     "text": [
      "Shape of X_train: torch.Size([2941, 10, 29])\n",
      "Shape of y_train: torch.Size([2941, 1])\n"
     ]
    }
   ],
   "source": [
    "# Ensure target tensors are 1-dimensional if they are scalars\n",
    "y_train_list = [y.unsqueeze(0) if y.dim() == 0 else y for y in y_train_list]\n",
    "\n",
    "# Stack the tensors to create the final X_train and y_train tensors\n",
    "X_train = torch.stack(X_train_list)\n",
    "y_train = torch.stack(y_train_list)\n",
    "\n",
    "# Verify the shapes\n",
    "print(f'Shape of X_train: {X_train.shape}')\n",
    "print(f'Shape of y_train: {y_train.shape}')"
   ]
  },
  {
   "cell_type": "code",
   "execution_count": 31,
   "id": "0395f723",
   "metadata": {},
   "outputs": [],
   "source": [
    "# Ensure input tensors are of type torch.float32\n",
    "X_train = X_train.float()\n",
    "y_train = y_train.float()\n",
    "\n",
    "# Convert DataFrames to tensors for the test data\n",
    "X_test_list = [torch.tensor(merged_list_test[i][0].values) for i in range(len(merged_list_test))]\n",
    "y_test_list = [torch.tensor(merged_list_test[i][1]) for i in range(len(merged_list_test))]\n",
    "\n",
    "# Ensure target tensors are 1-dimensional if they are scalars\n",
    "y_test_list = [y.unsqueeze(0) if y.dim() == 0 else y for y in y_test_list]\n",
    "\n",
    "# Stack the tensors to create the final X_test and y_test tensors\n",
    "X_test = torch.stack(X_test_list)\n",
    "y_test = torch.stack(y_test_list)\n",
    "\n",
    "# Ensure input tensors are of type torch.float32\n",
    "X_test = X_test.float()\n",
    "y_test = y_test.float()\n",
    "\n",
    "X_test = X_test.cuda()"
   ]
  },
  {
   "cell_type": "code",
   "execution_count": 32,
   "id": "68cbe212",
   "metadata": {},
   "outputs": [],
   "source": [
    "from sklearn.preprocessing import MinMaxScaler\n",
    "y_train1 = y_train\n",
    "y_test1 = y_test\n",
    "\n",
    "y_combined = np.concatenate([y_train, y_test])\n",
    "\n",
    "scaler_target = MinMaxScaler()\n",
    "\n",
    "scaler_target.fit(y_combined)\n",
    "\n",
    "y_train = scaler_target.transform(y_train)\n",
    "y_test = scaler_target.transform(y_test)"
   ]
  },
  {
   "cell_type": "code",
   "execution_count": 33,
   "id": "f297fd7e",
   "metadata": {},
   "outputs": [],
   "source": [
    "y_train = y_train.reshape(-1, 1)\n",
    "y_test = y_test.reshape(-1, 1)\n",
    "y_train = torch.tensor(y_train, dtype=torch.float32)\n",
    "y_test = torch.tensor(y_test, dtype=torch.float32)\n"
   ]
  },
  {
   "cell_type": "code",
   "execution_count": 34,
   "id": "f6d8734d",
   "metadata": {},
   "outputs": [
    {
     "name": "stdout",
     "output_type": "stream",
     "text": [
      "LSTMModel(\n",
      "  (lstm): LSTM(29, 100, num_layers=2, batch_first=True)\n",
      "  (fc): Linear(in_features=100, out_features=1, bias=True)\n",
      ")\n"
     ]
    }
   ],
   "source": [
    "import torch\n",
    "import torch.nn as nn\n",
    "from torch.utils.data import DataLoader, TensorDataset\n",
    "from torch.cuda.amp import autocast, GradScaler\n",
    "\n",
    "class LSTMModel(nn.Module):\n",
    "    def __init__(self, input_size, hidden_size, num_layers, output_size):\n",
    "        super(LSTMModel, self).__init__()\n",
    "        self.hidden_size = hidden_size\n",
    "        self.num_layers = num_layers\n",
    "        \n",
    "        # Define the LSTM layer with the updated number of layers and hidden size\n",
    "        self.lstm = nn.LSTM(input_size, hidden_size, num_layers, batch_first=True)\n",
    "        \n",
    "        # Define the output layer\n",
    "        self.fc = nn.Linear(hidden_size, output_size)\n",
    "    \n",
    "    def forward(self, x):\n",
    "        # Initialize hidden state and cell state\n",
    "        h0 = torch.zeros(self.num_layers, x.size(0), self.hidden_size).to(x.device)\n",
    "        c0 = torch.zeros(self.num_layers, x.size(0), self.hidden_size).to(x.device)\n",
    "        \n",
    "        # Forward propagate LSTM\n",
    "        out, _ = self.lstm(x, (h0, c0))\n",
    "        \n",
    "        # Decode the hidden state of the last time step\n",
    "        out = self.fc(out[:, -1, :])\n",
    "        return out\n",
    "\n",
    "# Hyperparameters\n",
    "input_size = 29  \n",
    "hidden_size = 100  # Increased number of features in hidden state\n",
    "num_layers = 2  # Increased number of stacked LSTM layers\n",
    "output_size = 1  # Number of output features\n",
    "batch_size = 8  # Reduced batch size\n",
    "\n",
    "\n",
    "# DataLoader\n",
    "train_dataset = TensorDataset(X_train, y_train)\n",
    "train_loader = DataLoader(train_dataset, batch_size=batch_size, shuffle=True)\n",
    "\n",
    "# Initialize the model\n",
    "model = LSTMModel(input_size, hidden_size, num_layers, output_size).cuda()\n",
    "\n",
    "print(model)"
   ]
  },
  {
   "cell_type": "code",
   "execution_count": 35,
   "id": "1cad1751",
   "metadata": {},
   "outputs": [
    {
     "name": "stdout",
     "output_type": "stream",
     "text": [
      "Epoch [1/100], Loss: 0.1268\n",
      "Epoch [2/100], Loss: 0.0423\n",
      "Epoch [3/100], Loss: 0.0257\n",
      "Epoch [4/100], Loss: 0.1227\n",
      "Epoch [5/100], Loss: 0.0787\n",
      "Epoch [6/100], Loss: 0.0386\n",
      "Epoch [7/100], Loss: 0.0363\n",
      "Epoch [8/100], Loss: 0.0838\n",
      "Epoch [9/100], Loss: 0.0470\n",
      "Epoch [10/100], Loss: 0.0067\n",
      "Epoch [11/100], Loss: 0.0144\n",
      "Epoch [12/100], Loss: 0.0077\n",
      "Epoch [13/100], Loss: 0.0187\n",
      "Epoch [14/100], Loss: 0.0303\n",
      "Epoch [15/100], Loss: 0.0115\n",
      "Epoch [16/100], Loss: 0.0073\n",
      "Epoch [17/100], Loss: 0.0138\n",
      "Epoch [18/100], Loss: 0.0025\n",
      "Epoch [19/100], Loss: 0.0033\n",
      "Epoch [20/100], Loss: 0.0143\n",
      "Epoch [21/100], Loss: 0.0136\n",
      "Epoch [22/100], Loss: 0.0074\n",
      "Epoch [23/100], Loss: 0.0153\n",
      "Epoch [24/100], Loss: 0.0179\n",
      "Epoch [25/100], Loss: 0.0316\n",
      "Epoch [26/100], Loss: 0.0033\n",
      "Epoch [27/100], Loss: 0.0125\n",
      "Epoch [28/100], Loss: 0.0271\n",
      "Epoch [29/100], Loss: 0.0111\n",
      "Epoch [30/100], Loss: 0.0187\n",
      "Epoch [31/100], Loss: 0.0475\n",
      "Epoch [32/100], Loss: 0.0152\n",
      "Epoch [33/100], Loss: 0.0102\n",
      "Epoch [34/100], Loss: 0.0201\n",
      "Epoch [35/100], Loss: 0.0623\n",
      "Epoch [36/100], Loss: 0.0030\n",
      "Epoch [37/100], Loss: 0.0482\n",
      "Epoch [38/100], Loss: 0.0059\n",
      "Epoch [39/100], Loss: 0.0399\n",
      "Epoch [40/100], Loss: 0.0191\n",
      "Epoch [41/100], Loss: 0.0264\n",
      "Epoch [42/100], Loss: 0.0021\n",
      "Epoch [43/100], Loss: 0.0247\n",
      "Epoch [44/100], Loss: 0.0329\n",
      "Epoch [45/100], Loss: 0.0219\n",
      "Epoch [46/100], Loss: 0.0220\n",
      "Epoch [47/100], Loss: 0.0308\n",
      "Epoch [48/100], Loss: 0.0089\n",
      "Epoch [49/100], Loss: 0.0026\n",
      "Epoch [50/100], Loss: 0.0103\n",
      "Epoch [51/100], Loss: 0.0073\n",
      "Epoch [52/100], Loss: 0.0088\n",
      "Epoch [53/100], Loss: 0.0163\n",
      "Epoch [54/100], Loss: 0.0049\n",
      "Epoch [55/100], Loss: 0.0078\n",
      "Epoch [56/100], Loss: 0.0587\n",
      "Epoch [57/100], Loss: 0.0054\n",
      "Epoch [58/100], Loss: 0.0040\n",
      "Epoch [59/100], Loss: 0.0037\n",
      "Epoch [60/100], Loss: 0.0193\n",
      "Epoch [61/100], Loss: 0.0099\n",
      "Epoch [62/100], Loss: 0.0010\n",
      "Epoch [63/100], Loss: 0.0565\n",
      "Epoch [64/100], Loss: 0.0142\n",
      "Epoch [65/100], Loss: 0.0190\n",
      "Epoch [66/100], Loss: 0.0505\n",
      "Epoch [67/100], Loss: 0.0037\n",
      "Epoch [68/100], Loss: 0.0150\n",
      "Epoch [69/100], Loss: 0.0701\n",
      "Epoch [70/100], Loss: 0.0277\n",
      "Epoch [71/100], Loss: 0.0030\n",
      "Epoch [72/100], Loss: 0.0062\n",
      "Epoch [73/100], Loss: 0.0309\n",
      "Epoch [74/100], Loss: 0.0065\n",
      "Epoch [75/100], Loss: 0.0103\n",
      "Epoch [76/100], Loss: 0.0317\n",
      "Epoch [77/100], Loss: 0.0029\n",
      "Epoch [78/100], Loss: 0.0171\n",
      "Epoch [79/100], Loss: 0.0060\n",
      "Epoch [80/100], Loss: 0.0061\n",
      "Epoch [81/100], Loss: 0.0432\n",
      "Epoch [82/100], Loss: 0.0295\n",
      "Epoch [83/100], Loss: 0.0046\n",
      "Epoch [84/100], Loss: 0.0123\n",
      "Epoch [85/100], Loss: 0.0059\n",
      "Epoch [86/100], Loss: 0.0050\n",
      "Epoch [87/100], Loss: 0.0055\n",
      "Epoch [88/100], Loss: 0.0297\n",
      "Epoch [89/100], Loss: 0.0397\n",
      "Epoch [90/100], Loss: 0.0007\n",
      "Epoch [91/100], Loss: 0.0157\n",
      "Epoch [92/100], Loss: 0.0062\n",
      "Epoch [93/100], Loss: 0.0195\n",
      "Epoch [94/100], Loss: 0.0093\n",
      "Epoch [95/100], Loss: 0.0709\n",
      "Epoch [96/100], Loss: 0.0040\n",
      "Epoch [97/100], Loss: 0.0387\n",
      "Epoch [98/100], Loss: 0.0327\n",
      "Epoch [99/100], Loss: 0.0096\n",
      "Epoch [100/100], Loss: 0.0091\n"
     ]
    }
   ],
   "source": [
    "# Loss and optimizer\n",
    "criterion = nn.MSELoss()\n",
    "optimizer = torch.optim.Adam(model.parameters(), lr=0.0001)\n",
    "\n",
    "# GradScaler for mixed precision training\n",
    "scaler = GradScaler()\n",
    "\n",
    "num_epochs = 100\n",
    "\n",
    "best_val_loss = float('inf')  # Initialize with a large value\n",
    "best_model_path = 'best_model.pth'\n",
    "\n",
    "\n",
    "for epoch in range(num_epochs):\n",
    "    model.train()\n",
    "    for i, (inputs, targets) in enumerate(train_loader):\n",
    "        inputs, targets = inputs.cuda(), targets.cuda()\n",
    "        \n",
    "        # Forward pass with autocast for mixed precision\n",
    "        with autocast():\n",
    "            outputs = model(inputs)\n",
    "            loss = criterion(outputs, targets)\n",
    "        \n",
    "        # Backward pass and optimization\n",
    "        optimizer.zero_grad()\n",
    "        scaler.scale(loss).backward()\n",
    "        scaler.step(optimizer)\n",
    "        scaler.update()\n",
    "    print(f'Epoch [{epoch+1}/{num_epochs}], Loss: {loss.item():.4f}')    \n",
    "    if (epoch+1) % 5 == 0:\n",
    "\n",
    "        torch.cuda.empty_cache()  # Free up unused memory\n"
   ]
  },
  {
   "cell_type": "code",
   "execution_count": 36,
   "id": "f7f6da92",
   "metadata": {},
   "outputs": [
    {
     "data": {
      "image/png": "[encoded data removed]",
      "text/plain": [
       "<Figure size 1000x600 with 1 Axes>"
      ]
     },
     "metadata": {},
     "output_type": "display_data"
    }
   ],
   "source": [
    "model.eval()\n",
    "\n",
    "# Predict y_train using the trained model\n",
    "with torch.no_grad():\n",
    "    y_train_pred = model(X_train.cuda()).cpu().numpy()\n",
    "\n",
    "# Inverse transform the predicted y_train_pred back to original scale\n",
    "y_train_pred_original = scaler_target.inverse_transform(y_train_pred.reshape(-1, 1)).flatten()\n",
    "\n",
    "# Plot the predicted y_train against the actual y_train\n",
    "plt.figure(figsize=(10, 6))\n",
    "plt.plot(y_train1.numpy(), label='Actual')\n",
    "plt.plot(y_train_pred_original, label='Predicted')\n",
    "plt.xlabel('Sample Index')\n",
    "plt.ylabel('Target Value')\n",
    "plt.title('Actual vs Predicted Values (Training Data)')\n",
    "plt.legend()\n",
    "plt.show()"
   ]
  },
  {
   "cell_type": "code",
   "execution_count": 37,
   "id": "a81ed599",
   "metadata": {},
   "outputs": [
    {
     "data": {
      "text/plain": [
       "array([[0.10129837],\n",
       "       [0.1622512 ],\n",
       "       [0.1450018 ],\n",
       "       ...,\n",
       "       [0.17037466],\n",
       "       [0.17031655],\n",
       "       [0.16997902]], dtype=float32)"
      ]
     },
     "execution_count": 37,
     "metadata": {},
     "output_type": "execute_result"
    }
   ],
   "source": [
    "y_train_pred"
   ]
  },
  {
   "cell_type": "code",
   "execution_count": 38,
   "id": "f9a0d696",
   "metadata": {},
   "outputs": [
    {
     "data": {
      "text/plain": [
       "array([2.2460744, 3.6276586, 3.236676 , ..., 3.8117886, 3.8104713,\n",
       "       3.802821 ], dtype=float32)"
      ]
     },
     "execution_count": 38,
     "metadata": {},
     "output_type": "execute_result"
    }
   ],
   "source": [
    "y_train_pred_original"
   ]
  },
  {
   "cell_type": "code",
   "execution_count": 39,
   "id": "b7c08823",
   "metadata": {},
   "outputs": [
    {
     "data": {
      "image/png": "[encoded data removed]",
      "text/plain": [
       "<Figure size 1000x600 with 1 Axes>"
      ]
     },
     "metadata": {},
     "output_type": "display_data"
    }
   ],
   "source": [
    "model.eval()\n",
    "\n",
    "# No gradient calculation needed during inference\n",
    "with torch.no_grad():\n",
    "    # Forward pass: compute predicted y by passing X_test to the model\n",
    "    y_pred = model(X_test)\n",
    "\n",
    "# Convert tensors to NumPy arrays for easier plotting\n",
    "y_test_np = y_test.cpu().numpy()\n",
    "y_pred_np = y_pred.cpu().numpy()\n",
    "\n",
    "# Plot the actual vs predicted values\n",
    "plt.figure(figsize=(10, 6))\n",
    "plt.plot(y_test_np, label='Actual')\n",
    "plt.plot(y_pred_np, label='Predicted')\n",
    "plt.xlabel('Sample Index')\n",
    "plt.ylabel('Target Value')\n",
    "plt.title('Actual vs Predicted Values')\n",
    "plt.legend()\n",
    "plt.show()"
   ]
  },
  {
   "cell_type": "code",
   "execution_count": 40,
   "id": "e9149599",
   "metadata": {},
   "outputs": [
    {
     "data": {
      "text/plain": [
       "array([[0.14526774],\n",
       "       [0.15796448],\n",
       "       [0.14260893],\n",
       "       ...,\n",
       "       [0.16562536],\n",
       "       [0.16487598],\n",
       "       [0.15980044]], dtype=float32)"
      ]
     },
     "execution_count": 40,
     "metadata": {},
     "output_type": "execute_result"
    }
   ],
   "source": [
    "y_pred_np"
   ]
  },
  {
   "cell_type": "code",
   "execution_count": null,
   "id": "5d52f654",
   "metadata": {},
   "outputs": [],
   "source": []
  },
  {
   "cell_type": "code",
   "execution_count": null,
   "id": "b19b5e35",
   "metadata": {},
   "outputs": [],
   "source": []
  },
  {
   "cell_type": "code",
   "execution_count": null,
   "id": "9827e1d6",
   "metadata": {},
   "outputs": [],
   "source": []
  },
  {
   "cell_type": "code",
   "execution_count": null,
   "id": "c1006aa1",
   "metadata": {},
   "outputs": [],
   "source": []
  },
  {
   "cell_type": "code",
   "execution_count": null,
   "id": "84416aec",
   "metadata": {},
   "outputs": [],
   "source": []
  },
  {
   "cell_type": "code",
   "execution_count": 41,
   "id": "88082120",
   "metadata": {},
   "outputs": [],
   "source": [
    "# class SiLevelDataset(Dataset):\n",
    "#   def __init__(self, sequences):\n",
    "#     self.sequences = sequences\n",
    "\n",
    "#   def __len__(self):\n",
    "#     return len(self.sequences)\n",
    "\n",
    "#   def __getitem__(self, idx):\n",
    "#     sequence, label = self.sequences[idx]\n",
    "#     return dict(\n",
    "#         sequence = torch.Tensor(sequence.to_numpy()),\n",
    "#         label = torch.tensor(label).float()\n",
    "#     )"
   ]
  },
  {
   "cell_type": "code",
   "execution_count": 42,
   "id": "dd1c6040",
   "metadata": {},
   "outputs": [],
   "source": [
    "# class SiLevelDataModule(pl.LightningDataModule):\n",
    "#   def __init__(\n",
    "#       self, train_sequences, test_sequences, batch_size = 1\n",
    "#   ):\n",
    "#     super().__init__()\n",
    "#     self.train_sequences = train_sequences\n",
    "#     self.test_sequences = test_sequences\n",
    "#     self.batch_size = batch_size\n",
    "  \n",
    "#   def setup(self, stage=None):\n",
    "#     self.train_dataset = SiLevelDataset(self.train_sequences)\n",
    "#     self.test_dataset = SiLevelDataset(self.test_sequences)\n",
    "  \n",
    "#   def train_dataloader(self):\n",
    "#     return DataLoader(\n",
    "#         self.train_dataset,\n",
    "#         batch_size = self.batch_size,\n",
    "#         shuffle = False,\n",
    "#         num_workers = 2\n",
    "#     )\n",
    "\n",
    "#   def val_dataloader(self):\n",
    "#     return DataLoader(\n",
    "#         self.test_dataset,\n",
    "#         batch_size = 1,\n",
    "#         shuffle = False,\n",
    "#         num_workers = 1\n",
    "#     )\n",
    "#   def test_dataloader(self):\n",
    "#     return DataLoader(\n",
    "#         self.test_dataset,\n",
    "#         batch_size = 1,\n",
    "#         shuffle = False,\n",
    "#         num_workers = 1\n",
    "#     )"
   ]
  },
  {
   "cell_type": "code",
   "execution_count": 43,
   "id": "620e85c7",
   "metadata": {},
   "outputs": [],
   "source": [
    "# N_EPOCHS = 8\n",
    "# BATCH_SIZE = 1"
   ]
  },
  {
   "cell_type": "code",
   "execution_count": 44,
   "id": "b4596f4e",
   "metadata": {},
   "outputs": [],
   "source": [
    "# data_module = SiLevelDataModule(train_sequences_Q1, merged_list_test, batch_size = BATCH_SIZE)\n",
    "# data_module.setup()"
   ]
  },
  {
   "cell_type": "code",
   "execution_count": 45,
   "id": "e0937633",
   "metadata": {},
   "outputs": [],
   "source": [
    "# train_dataset = SiLevelDataset(merged_list_train)\n",
    "# test_dataset = SiLevelDataset(merged_list_test)"
   ]
  },
  {
   "cell_type": "code",
   "execution_count": 46,
   "id": "56d6fa74",
   "metadata": {},
   "outputs": [],
   "source": [
    "# train_dataset"
   ]
  },
  {
   "cell_type": "code",
   "execution_count": 47,
   "id": "626090af",
   "metadata": {},
   "outputs": [],
   "source": [
    "# a = iter(train_dataset)\n",
    "# b = next(a)\n",
    "# print(\"Sequence Shape: \", b[\"sequence\"].shape)\n",
    "# print(\"Label: {} and Label Shape: {}\".format(b[\"label\"], b[\"label\"].shape) )"
   ]
  },
  {
   "cell_type": "code",
   "execution_count": null,
   "id": "071907bc",
   "metadata": {},
   "outputs": [],
   "source": []
  },
  {
   "cell_type": "code",
   "execution_count": null,
   "id": "7b0b7514",
   "metadata": {},
   "outputs": [],
   "source": []
  },
  {
   "cell_type": "code",
   "execution_count": null,
   "id": "8cf5918d",
   "metadata": {},
   "outputs": [],
   "source": []
  },
  {
   "cell_type": "code",
   "execution_count": null,
   "id": "705ce09d",
   "metadata": {},
   "outputs": [],
   "source": []
  },
  {
   "cell_type": "code",
   "execution_count": null,
   "id": "3c89fbfb",
   "metadata": {},
   "outputs": [],
   "source": []
  },
  {
   "cell_type": "code",
   "execution_count": null,
   "id": "c6808ea7",
   "metadata": {},
   "outputs": [],
   "source": []
  }
 ],
 "metadata": {
  "kernelspec": {
   "display_name": "Python 3 (ipykernel)",
   "language": "python",
   "name": "python3"
  },
  "language_info": {
   "codemirror_mode": {
    "name": "ipython",
    "version": 3
   },
   "file_extension": ".py",
   "mimetype": "text/x-python",
   "name": "python",
   "nbconvert_exporter": "python",
   "pygments_lexer": "ipython3",
   "version": "3.9.13"
  }
 },
 "nbformat": 4,
 "nbformat_minor": 5
}
